{
 "cells": [
  {
   "cell_type": "markdown",
   "id": "d5fd396c",
   "metadata": {},
   "source": [
    "# 1.2 Отборочное тестирование"
   ]
  },
  {
   "cell_type": "markdown",
   "id": "5579b6bd",
   "metadata": {},
   "source": [
    "В файле дан результат работы команды ping, Вам необходимо подсчитать среднее, минимальное и максимальное время ответа сервера. Все числа необходимо округлить до целого и записать через пробел в следующем порядке: минимальное, среднее, максимальное.\n",
    "\n",
    "https://raw.githubusercontent.com/bykov-alexei/data-science-course/master/Входное%20тестирование/ping.txt"
   ]
  },
  {
   "cell_type": "code",
   "execution_count": null,
   "id": "093b5c83",
   "metadata": {},
   "outputs": [],
   "source": []
  },
  {
   "cell_type": "markdown",
   "id": "ed53a5b6",
   "metadata": {},
   "source": [
    "Посчитайте кол-во слов в тексте. Слова отсортируйте в лексикографическом порядке (как в словаре). Словом считайте всё что отделено пробелом. Также не забудьте убрать знаки пунктуации (после знака пунктуации обязательно идет пробельный символ - пробел, либо перенос строки). Слова должны быть записаны символами в нижнем регистре. Считайте знаками препинания следующие символы: .?!,-:; Чтобы ввести весь текст в python 3, нужно выполнить следующий код:"
   ]
  },
  {
   "cell_type": "code",
   "execution_count": null,
   "id": "95705d45",
   "metadata": {},
   "outputs": [],
   "source": [
    "import sys\n",
    "text = sys.stdin.read().lower()\n",
    "for i in ('.', '?', '!', ',', '- ', ':', ';'):\n",
    "    text = text.replace(i, ' ')\n",
    "text.sort()\n",
    "b = {}\n",
    "for i in text..strip().split():\n",
    "    if i in b:\n",
    "        b[i] += 1\n",
    "    else:\n",
    "        b.setdefault(i, 1)\n",
    "for i in sorted(b):\n",
    "        print(f'{i}: {b[i]}')"
   ]
  },
  {
   "cell_type": "code",
   "execution_count": null,
   "id": "2942ab89",
   "metadata": {},
   "outputs": [],
   "source": [
    "import sys\n",
    "text = sys.stdin.read().lower()\n",
    "for i in ('.', '?', '!', ',', '- ', ':', ';'):\n",
    "    text = text.replace(i, ' ')\n",
    "text = text.lower().strip().split()\n",
    "text.sort()\n",
    "b = {}\n",
    "for i in range(len(text)):\n",
    "    if text[i] in b:\n",
    "        b[text[i]] += 1\n",
    "    else:\n",
    "        b.setdefault(text[i], 1)\n",
    "for key, val in b.items():\n",
    "    print(key,': ', val, sep = '')"
   ]
  },
  {
   "cell_type": "code",
   "execution_count": null,
   "id": "0aced652",
   "metadata": {},
   "outputs": [],
   "source": []
  },
  {
   "cell_type": "code",
   "execution_count": null,
   "id": "11baa544",
   "metadata": {},
   "outputs": [],
   "source": []
  },
  {
   "cell_type": "code",
   "execution_count": null,
   "id": "36a65214",
   "metadata": {},
   "outputs": [],
   "source": []
  },
  {
   "cell_type": "code",
   "execution_count": null,
   "id": "b0d83028",
   "metadata": {},
   "outputs": [],
   "source": []
  }
 ],
 "metadata": {
  "kernelspec": {
   "display_name": "Python 3 (ipykernel)",
   "language": "python",
   "name": "python3"
  },
  "language_info": {
   "codemirror_mode": {
    "name": "ipython",
    "version": 3
   },
   "file_extension": ".py",
   "mimetype": "text/x-python",
   "name": "python",
   "nbconvert_exporter": "python",
   "pygments_lexer": "ipython3",
   "version": "3.9.7"
  }
 },
 "nbformat": 4,
 "nbformat_minor": 5
}
