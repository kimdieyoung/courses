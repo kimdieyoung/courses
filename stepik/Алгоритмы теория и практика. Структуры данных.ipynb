{
 "cells": [
  {
   "cell_type": "markdown",
   "id": "c09c851e",
   "metadata": {},
   "source": [
    "Расстановка скобок в коде"
   ]
  },
  {
   "cell_type": "code",
   "execution_count": 169,
   "id": "5364d5a4",
   "metadata": {},
   "outputs": [
    {
     "name": "stdout",
     "output_type": "stream",
     "text": [
      "[{]\n",
      "3\n"
     ]
    }
   ],
   "source": [
    "def brackets(a):\n",
    "    b = []\n",
    "    ind = []\n",
    "    if len(a) == 0:\n",
    "        print('Success')\n",
    "    for i in range(len(a)):\n",
    "        if a[i] in ['(','{','[']:\n",
    "            b.append(a[i])\n",
    "            ind.append(i)\n",
    "        if a[i] in [')',']', '}']:\n",
    "            if len(b) == 0:\n",
    "                return (i+1)\n",
    "            elif (a[i] == '}' and b[-1] == '{') or (a[i] == ')' and b[-1] == '(') or (a[i] == ']' and b[-1] == '['):\n",
    "                ind.pop()\n",
    "                b.pop()\n",
    "                if i == len(a) -1 and len(b) > 0:\n",
    "                    return (ind.pop()+1)\n",
    "            else: \n",
    "                return(i+1)\n",
    "    if len(b) == 0:\n",
    "        return ('Success')\n",
    "    if len(b) > 0:\n",
    "        return (ind[0]+1)\n",
    "print(brackets(str(input())))"
   ]
  },
  {
   "cell_type": "code",
   "execution_count": 166,
   "id": "d786ac70",
   "metadata": {},
   "outputs": [
    {
     "data": {
      "text/plain": [
       "'h'"
      ]
     },
     "execution_count": 166,
     "metadata": {},
     "output_type": "execute_result"
    }
   ],
   "source": [
    "a = ['d','f','g','h','h']\n",
    "a.pop()\n",
    "a.pop()"
   ]
  },
  {
   "cell_type": "code",
   "execution_count": null,
   "id": "b80f0e66",
   "metadata": {},
   "outputs": [],
   "source": []
  },
  {
   "cell_type": "code",
   "execution_count": null,
   "id": "5507b1d8",
   "metadata": {},
   "outputs": [],
   "source": []
  }
 ],
 "metadata": {
  "kernelspec": {
   "display_name": "Python 3 (ipykernel)",
   "language": "python",
   "name": "python3"
  },
  "language_info": {
   "codemirror_mode": {
    "name": "ipython",
    "version": 3
   },
   "file_extension": ".py",
   "mimetype": "text/x-python",
   "name": "python",
   "nbconvert_exporter": "python",
   "pygments_lexer": "ipython3",
   "version": "3.9.7"
  }
 },
 "nbformat": 4,
 "nbformat_minor": 5
}
