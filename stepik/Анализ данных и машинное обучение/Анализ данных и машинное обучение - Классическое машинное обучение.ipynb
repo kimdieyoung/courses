{
 "cells": [
  {
   "cell_type": "markdown",
   "id": "cb429b30",
   "metadata": {},
   "source": [
    "# 4. Второй модуль. Классическое машинное обучение"
   ]
  },
  {
   "cell_type": "markdown",
   "id": "03ecb6ab",
   "metadata": {},
   "source": [
    "## 4.1 Задача регрессии. Линейная регрессия"
   ]
  },
  {
   "cell_type": "markdown",
   "id": "773bdeb9",
   "metadata": {},
   "source": [
    "Вам даны два ряда. В одном* ряду значения курса валюты за определенный промежуток времени, во втором** ряду находится предсказанный некоторой моделью курс этой же валюты.\n",
    "\n",
    "* https://github.com/bykov-alexei/data-science-course/blob/master/ML/first-series.npy?raw=true\n",
    "\n",
    "** https://github.com/bykov-alexei/data-science-course/blob/master/ML/second-series.npy?raw=true"
   ]
  },
  {
   "cell_type": "code",
   "execution_count": null,
   "id": "04d30728",
   "metadata": {},
   "outputs": [],
   "source": [
    "import numpy as np\n",
    "a = np.load('ML/first-series.npy')\n",
    "b = np.load('ML/second-series.npy')"
   ]
  },
  {
   "cell_type": "markdown",
   "id": "b0e9f8e8",
   "metadata": {},
   "source": [
    "По двум рядам определите ошибку предсказания MSE"
   ]
  },
  {
   "cell_type": "code",
   "execution_count": null,
   "id": "1cfc4fc1",
   "metadata": {},
   "outputs": [],
   "source": [
    "import sklearn.metrics as sk\n",
    "mse = sk.mean_squared_error(a, b)\n",
    "mse"
   ]
  },
  {
   "cell_type": "markdown",
   "id": "1a04bfb1",
   "metadata": {},
   "source": [
    "По двум рядам определите ошибку предсказания RMSE"
   ]
  },
  {
   "cell_type": "code",
   "execution_count": null,
   "id": "a1ea8f6b",
   "metadata": {},
   "outputs": [],
   "source": [
    "import sklearn.metrics as sk\n",
    "rmse = mean_squared_error(a, b, squared=False)\n",
    "rmse"
   ]
  },
  {
   "cell_type": "markdown",
   "id": "2066ee45",
   "metadata": {},
   "source": [
    "По двум рядам определите ошибку предсказания MAE"
   ]
  },
  {
   "cell_type": "code",
   "execution_count": null,
   "id": "156710df",
   "metadata": {},
   "outputs": [],
   "source": [
    "sk.mean_absolute_error(a, b)"
   ]
  },
  {
   "cell_type": "markdown",
   "id": "7ca274a3",
   "metadata": {},
   "source": [
    "Постройте линейную регрессию по данным и в ответ запишите получившийся коэффициент k \n",
    "\n",
    "https://github.com/bykov-alexei/data-science-course/blob/master/ML/data.npz?raw=true"
   ]
  },
  {
   "cell_type": "code",
   "execution_count": null,
   "id": "64d93f3b",
   "metadata": {},
   "outputs": [],
   "source": [
    "import numpy as np\n",
    "import pandas as pd\n",
    "from sklearn.linear_model import LinearRegression\n",
    "npz = np.load('ml/data.npz')\n",
    "df= pd.DataFrame.from_dict({item: npz[item] for item in npz.files})\n",
    "X = df.iloc[:,:-1].values\n",
    "y = df.iloc[:,1].values \n",
    "model = LinearRegression().fit(x, y)\n",
    "model.coef_"
   ]
  },
  {
   "cell_type": "markdown",
   "id": "f1366a0d",
   "metadata": {},
   "source": [
    "## 4.2 Задача регрессии. Линейная регрессия не для kx + b"
   ]
  },
  {
   "cell_type": "markdown",
   "id": "80755a8a",
   "metadata": {},
   "source": [
    "В {файле}(https://github.com/bykov-alexei/data-science-course/blob/master/Машинное%20обучение/Линейная%20регрессия/data.npz?raw=true) даны значения x, y\n",
    "y = a_1*sin(x)+a_2cos(x)+a_3\n",
    "Ваша задача найти коэффициенты a1, a2, a3 округлить их до ближайшего целого и записать через пробел\n",
    "\n",
    "https://github.com/bykov-alexei/data-science-course/blob/master/Машинное%20обучение/Линейная%20регрессия/data.npz?raw=true"
   ]
  },
  {
   "cell_type": "code",
   "execution_count": 64,
   "id": "28ab1e15",
   "metadata": {
    "collapsed": true
   },
   "outputs": [
    {
     "data": {
      "text/html": [
       "<div>\n",
       "<style scoped>\n",
       "    .dataframe tbody tr th:only-of-type {\n",
       "        vertical-align: middle;\n",
       "    }\n",
       "\n",
       "    .dataframe tbody tr th {\n",
       "        vertical-align: top;\n",
       "    }\n",
       "\n",
       "    .dataframe thead th {\n",
       "        text-align: right;\n",
       "    }\n",
       "</style>\n",
       "<table border=\"1\" class=\"dataframe\">\n",
       "  <thead>\n",
       "    <tr style=\"text-align: right;\">\n",
       "      <th></th>\n",
       "      <th>x</th>\n",
       "      <th>y</th>\n",
       "    </tr>\n",
       "  </thead>\n",
       "  <tbody>\n",
       "    <tr>\n",
       "      <th>0</th>\n",
       "      <td>0.0000</td>\n",
       "      <td>4.736092</td>\n",
       "    </tr>\n",
       "    <tr>\n",
       "      <th>1</th>\n",
       "      <td>0.1001</td>\n",
       "      <td>5.040527</td>\n",
       "    </tr>\n",
       "    <tr>\n",
       "      <th>2</th>\n",
       "      <td>0.2002</td>\n",
       "      <td>4.940094</td>\n",
       "    </tr>\n",
       "    <tr>\n",
       "      <th>3</th>\n",
       "      <td>0.3003</td>\n",
       "      <td>5.521794</td>\n",
       "    </tr>\n",
       "    <tr>\n",
       "      <th>4</th>\n",
       "      <td>0.4004</td>\n",
       "      <td>5.881488</td>\n",
       "    </tr>\n",
       "    <tr>\n",
       "      <th>...</th>\n",
       "      <td>...</td>\n",
       "      <td>...</td>\n",
       "    </tr>\n",
       "    <tr>\n",
       "      <th>995</th>\n",
       "      <td>99.5996</td>\n",
       "      <td>2.754069</td>\n",
       "    </tr>\n",
       "    <tr>\n",
       "      <th>996</th>\n",
       "      <td>99.6997</td>\n",
       "      <td>2.815679</td>\n",
       "    </tr>\n",
       "    <tr>\n",
       "      <th>997</th>\n",
       "      <td>99.7998</td>\n",
       "      <td>3.157637</td>\n",
       "    </tr>\n",
       "    <tr>\n",
       "      <th>998</th>\n",
       "      <td>99.8999</td>\n",
       "      <td>3.103036</td>\n",
       "    </tr>\n",
       "    <tr>\n",
       "      <th>999</th>\n",
       "      <td>100.0000</td>\n",
       "      <td>4.070684</td>\n",
       "    </tr>\n",
       "  </tbody>\n",
       "</table>\n",
       "<p>1000 rows × 2 columns</p>\n",
       "</div>"
      ],
      "text/plain": [
       "            x         y\n",
       "0      0.0000  4.736092\n",
       "1      0.1001  5.040527\n",
       "2      0.2002  4.940094\n",
       "3      0.3003  5.521794\n",
       "4      0.4004  5.881488\n",
       "..        ...       ...\n",
       "995   99.5996  2.754069\n",
       "996   99.6997  2.815679\n",
       "997   99.7998  3.157637\n",
       "998   99.8999  3.103036\n",
       "999  100.0000  4.070684\n",
       "\n",
       "[1000 rows x 2 columns]"
      ]
     },
     "execution_count": 64,
     "metadata": {},
     "output_type": "execute_result"
    }
   ],
   "source": [
    "import numpy as np\n",
    "import pandas as pd\n",
    "import sympy as sp\n",
    "import scipy.optimize\n",
    "from math import sin\n",
    "from math import cos\n",
    "npz = np.load('4.2.1.npz')\n",
    "df= pd.DataFrame.from_dict({item: npz[item] for item in npz.files})\n",
    "a1,a2,a3 = sp.symbols('a1 a2 a3')\n",
    "\n",
    "# out = scipy.optimize.fsolve(sp.Eq(a1*sin(x)+a2*cos(x)+a3, y))\n",
    "df\n"
   ]
  },
  {
   "cell_type": "code",
   "execution_count": null,
   "id": "ab32884b",
   "metadata": {},
   "outputs": [],
   "source": []
  },
  {
   "cell_type": "code",
   "execution_count": null,
   "id": "8797df06",
   "metadata": {},
   "outputs": [],
   "source": []
  },
  {
   "cell_type": "code",
   "execution_count": null,
   "id": "6dddef1f",
   "metadata": {},
   "outputs": [],
   "source": []
  },
  {
   "cell_type": "code",
   "execution_count": null,
   "id": "06366d05",
   "metadata": {},
   "outputs": [],
   "source": []
  },
  {
   "cell_type": "code",
   "execution_count": null,
   "id": "675bb9e5",
   "metadata": {},
   "outputs": [],
   "source": []
  },
  {
   "cell_type": "code",
   "execution_count": null,
   "id": "4d95e172",
   "metadata": {},
   "outputs": [],
   "source": []
  },
  {
   "cell_type": "code",
   "execution_count": null,
   "id": "9b0dd537",
   "metadata": {},
   "outputs": [],
   "source": []
  },
  {
   "cell_type": "code",
   "execution_count": null,
   "id": "f13ef676",
   "metadata": {},
   "outputs": [],
   "source": []
  },
  {
   "cell_type": "code",
   "execution_count": null,
   "id": "cc569d2d",
   "metadata": {},
   "outputs": [],
   "source": []
  },
  {
   "cell_type": "code",
   "execution_count": null,
   "id": "0a211432",
   "metadata": {},
   "outputs": [],
   "source": []
  },
  {
   "cell_type": "code",
   "execution_count": null,
   "id": "94825f5d",
   "metadata": {},
   "outputs": [],
   "source": []
  },
  {
   "cell_type": "code",
   "execution_count": null,
   "id": "ebcfd597",
   "metadata": {},
   "outputs": [],
   "source": []
  },
  {
   "cell_type": "code",
   "execution_count": null,
   "id": "493d4e0f",
   "metadata": {},
   "outputs": [],
   "source": []
  },
  {
   "cell_type": "code",
   "execution_count": null,
   "id": "6285c1c1",
   "metadata": {},
   "outputs": [],
   "source": []
  },
  {
   "cell_type": "code",
   "execution_count": null,
   "id": "58dde737",
   "metadata": {},
   "outputs": [],
   "source": []
  },
  {
   "cell_type": "code",
   "execution_count": null,
   "id": "67fea328",
   "metadata": {},
   "outputs": [],
   "source": []
  },
  {
   "cell_type": "code",
   "execution_count": null,
   "id": "f9645fab",
   "metadata": {},
   "outputs": [],
   "source": []
  },
  {
   "cell_type": "code",
   "execution_count": null,
   "id": "e2b455e3",
   "metadata": {},
   "outputs": [],
   "source": []
  }
 ],
 "metadata": {
  "kernelspec": {
   "display_name": "Python 3 (ipykernel)",
   "language": "python",
   "name": "python3"
  },
  "language_info": {
   "codemirror_mode": {
    "name": "ipython",
    "version": 3
   },
   "file_extension": ".py",
   "mimetype": "text/x-python",
   "name": "python",
   "nbconvert_exporter": "python",
   "pygments_lexer": "ipython3",
   "version": "3.9.7"
  }
 },
 "nbformat": 4,
 "nbformat_minor": 5
}
