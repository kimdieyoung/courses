{
 "cells": [
  {
   "cell_type": "markdown",
   "id": "bf45dbd2",
   "metadata": {},
   "source": [
    "необходимо вычислить n-е число Фибоначчи"
   ]
  },
  {
   "cell_type": "code",
   "execution_count": 17,
   "id": "fd30fff2",
   "metadata": {},
   "outputs": [
    {
     "name": "stdout",
     "output_type": "stream",
     "text": [
      "6765\n"
     ]
    }
   ],
   "source": [
    "def find_fibonachi(n):\n",
    "    if n >= 0:\n",
    "        a = [1,1]\n",
    "        for i in range(2, n):\n",
    "            a.append(a[i-1] + a[i-2])\n",
    "        return a[n -1]\n",
    "    else:\n",
    "        return n\n",
    "print(find_fibonachi(20))"
   ]
  },
  {
   "cell_type": "markdown",
   "id": "b5aafae4",
   "metadata": {},
   "source": [
    "необходимо найти последнюю цифру n-го числа Фибоначчи."
   ]
  },
  {
   "cell_type": "code",
   "execution_count": 4,
   "id": "541f2c71",
   "metadata": {
    "scrolled": true
   },
   "outputs": [
    {
     "name": "stdout",
     "output_type": "stream",
     "text": [
      "841645\n",
      "5\n"
     ]
    }
   ],
   "source": [
    "def find_last_digit_fibonachi(n):\n",
    "    if n >= 0:\n",
    "        a = [1,1]\n",
    "        for i in range(2, n):\n",
    "            a.append(a[i-1] % 10 + a[i-2]%10)\n",
    "        return a[n-1]%10\n",
    "    else:\n",
    "        return n\n",
    "print(find_last_digit_fibonachi(int(input())))\n"
   ]
  },
  {
   "cell_type": "markdown",
   "id": "0a951943",
   "metadata": {},
   "source": [
    "По данным двум числам 1 ≤ a,b ≤ 2⋅10^9 найдите их наибольший общий делитель"
   ]
  },
  {
   "cell_type": "code",
   "execution_count": 19,
   "id": "359d1e49",
   "metadata": {},
   "outputs": [
    {
     "name": "stdout",
     "output_type": "stream",
     "text": [
      "14159572 63967072\n",
      "4\n"
     ]
    }
   ],
   "source": [
    "def gcd(a, b):\n",
    "#     s = 0\n",
    "    while a:\n",
    "#         s = max(a,b) % min(a,b)\n",
    "#         b = min(a,b)\n",
    "#         a = s\n",
    "        a, b = a%b, b\n",
    "    return max(a,b)\n",
    "a, b = map(int, input().split())\n",
    "print(gsd(a, b))"
   ]
  },
  {
   "cell_type": "markdown",
   "id": "49625a7f",
   "metadata": {},
   "source": [
    "По данным nn отрезкам необходимо найти множество точек минимального размера, для которого каждый из отрезков содержит хотя бы одну из точек.\n",
    "\n",
    "В первой строке дано число 1≤n≤100 отрезков. Каждая из последующих n строк содержит по два числа 0≤l≤r≤10^9, задающих начало и конец отрезка. Выведите оптимальное число m точек и сами m точек. Если таких множеств точек несколько, выведите любое из них."
   ]
  },
  {
   "cell_type": "code",
   "execution_count": 1,
   "id": "ec0a46aa",
   "metadata": {},
   "outputs": [
    {
     "name": "stdout",
     "output_type": "stream",
     "text": [
      "1\n",
      "6 "
     ]
    }
   ],
   "source": [
    "n = 5\n",
    "a = [[5, 6], [4, 7], [3, 8],[2,9],[1, 10]]\n",
    "# n = int(input())\n",
    "# a = [[int(x) for x in input().split()] for i in range(n)]\n",
    "a.sort(key=lambda x: x[1])\n",
    "b = []\n",
    "m = a[0][1]\n",
    "i = 0\n",
    "while i <= n - 1:\n",
    "    if a[i][0] > m:\n",
    "        b.append(m)\n",
    "        m = a[i][1]\n",
    "    else:\n",
    "        i += 1\n",
    "b.append(m)\n",
    "print(len(b))\n",
    "for i in b:\n",
    "    print(i, end = ' ')\n"
   ]
  },
  {
   "cell_type": "markdown",
   "id": "1e2e4f29",
   "metadata": {},
   "source": [
    "Первая строка содержит количество предметов  1≤n≤10^3 и вместимость рюкзака 0≤W≤2⋅10^6. Каждая из следующих n строк задаёт стоимость 0≤c≤2⋅10^6 и объём 0<w≤2⋅10^6 предмета (n, W, c_i, w_i — целые числа). Выведите максимальную стоимость частей предметов (от каждого предмета можно отделить любую часть, стоимость и объём при этом пропорционально уменьшатся), помещающихся в данный рюкзак, с точностью не менее трёх знаков после запятой."
   ]
  },
  {
   "cell_type": "code",
   "execution_count": 12,
   "id": "c18b267c",
   "metadata": {
    "scrolled": true
   },
   "outputs": [
    {
     "name": "stdout",
     "output_type": "stream",
     "text": [
      "100\n",
      "160.0\n"
     ]
    }
   ],
   "source": [
    "a = [int(x) for x in input().split()]\n",
    "b = [[int(x) for x in input().split()] for i in range(a[0])]\n",
    "# a = [3 ,50]\n",
    "# b = [[0, 20], [100, 50], [120, 30]]\n",
    "c = list()\n",
    "m = 0\n",
    "w = a[1]\n",
    "out = float()\n",
    "for i in range(a[0]):\n",
    "    if b[i][0] > 0 and b[i][1] > 0:\n",
    "        c.append(b[i][0]/b[i][1])\n",
    "    else:\n",
    "        c.append(0)\n",
    "for i in range(a[0]):\n",
    "    m = c.index(max(c))\n",
    "    if w >= b[m][1]:\n",
    "        out += b[m][0]\n",
    "        c[m] = 0\n",
    "        w -= b[m][1]\n",
    "    else:\n",
    "        out += c[m] * w\n",
    "        break\n",
    "out = round(out, 3)\n",
    "print(out)\n",
    "        "
   ]
  },
  {
   "cell_type": "markdown",
   "id": "c0b0bb17",
   "metadata": {},
   "source": [
    "По данному числу 1≤n≤10^9, найдите максимальное число k, для которого n можно представить как сумму k различных натуральных слагаемых. Выведите в первой строке число k, во второй — k слагаемых."
   ]
  },
  {
   "cell_type": "code",
   "execution_count": 27,
   "id": "00195ae6",
   "metadata": {},
   "outputs": [
    {
     "name": "stdout",
     "output_type": "stream",
     "text": [
      "89\n",
      "12\n",
      "1 2 3 4 5 6 7 8 9 10 11 23\n"
     ]
    }
   ],
   "source": [
    "n = int(input())\n",
    "summ = 0\n",
    "b = []\n",
    "i = 1\n",
    "while i*2 < n - summ:\n",
    "    summ += i\n",
    "    b.append(i)\n",
    "    i += 1\n",
    "b.append(n - summ)\n",
    "print(len(b))\n",
    "print(*b, sep = ' ')"
   ]
  },
  {
   "cell_type": "markdown",
   "id": "88f404dc",
   "metadata": {},
   "source": [
    "По данной непустой строке s длины не более 10^4, состоящей из строчных букв латинского алфавита, постройте оптимальный беспрефиксный код. В первой строке выведите количество различных букв k, встречающихся в строке, и размер получившейся закодированной строки. В следующих k строках запишите коды букв в формате \"letter: code\". В последней строке выведите закодированную строку."
   ]
  },
  {
   "cell_type": "code",
   "execution_count": 23,
   "id": "562770a6",
   "metadata": {},
   "outputs": [
    {
     "name": "stdout",
     "output_type": "stream",
     "text": [
      "aaaaa\n",
      "1 5\n",
      "a: 0\n",
      "00000\n"
     ]
    }
   ],
   "source": [
    "from collections import Counter, namedtuple\n",
    "import heapq\n",
    "class node(namedtuple('node',['left', 'right'])):\n",
    "    def walk(self, code, acc):\n",
    "        self.left.walk(code, acc + '0')\n",
    "        self.right.walk(code, acc + '1')\n",
    "class leaf(namedtuple('leaf',['char'])):\n",
    "    def walk(self, code, acc):\n",
    "        code[self.char] = acc or '0'\n",
    "def huffman(s):\n",
    "    h = []\n",
    "    for ch, freq in Counter(s).items():\n",
    "        h.append((freq, len(h), leaf(ch)))\n",
    "    heapq.heapify(h)\n",
    "    count  = len(h)\n",
    "    while len(h) > 1:\n",
    "        freq1, _count1, left = heapq.heappop(h)\n",
    "        freq2, _count2, right = heapq.heappop(h)\n",
    "        heapq.heappush(h, (freq1+freq2, count, node(left,right)))\n",
    "        count += 1\n",
    "    code = {}\n",
    "    if h:\n",
    "        [(_freq, _count, root)] = h\n",
    "        root.walk(code,'')\n",
    "    return code\n",
    "s = input()\n",
    "code = huffman(s)\n",
    "encoded = ''.join(code[ch] for ch in s)\n",
    "print(len(code), len(encoded))\n",
    "for ch in sorted(code):\n",
    "    print('{}: {}' .format(ch, code[ch]))\n",
    "print(encoded)"
   ]
  },
  {
   "cell_type": "markdown",
   "id": "710adc8f",
   "metadata": {},
   "source": [
    "Восстановите строку по её коду и беспрефиксному коду символов. \n",
    "\n",
    "В первой строке входного файла заданы два целых числа k и l через пробел — количество различных букв, встречающихся в строке, и размер получившейся закодированной строки, соответственно. В следующих k строках записаны коды букв в формате \"letter: code\". Ни один код не является префиксом другого. Буквы могут быть перечислены в любом порядке. В качестве букв могут встречаться лишь строчные буквы латинского алфавита; каждая из этих букв встречается в строке хотя бы один раз. Наконец, в последней строке записана закодированная строка. Исходная строка и коды всех букв непусты. Заданный код таков, что закодированная строка имеет минимальный возможный размер.\n",
    "\n",
    "\n",
    "В первой строке выходного файла выведите строку s. Она должна состоять из строчных букв латинского алфавита. Гарантируется, что длина правильного ответа не превосходит 10^410 \n",
    "4\n",
    "  символов."
   ]
  },
  {
   "cell_type": "code",
   "execution_count": 128,
   "id": "27f5c150",
   "metadata": {},
   "outputs": [
    {
     "ename": "KeyboardInterrupt",
     "evalue": "Interrupted by user",
     "output_type": "error",
     "traceback": [
      "\u001b[1;31m---------------------------------------------------------------------------\u001b[0m",
      "\u001b[1;31mKeyboardInterrupt\u001b[0m                         Traceback (most recent call last)",
      "\u001b[1;32m~\\AppData\\Local\\Temp/ipykernel_9072/4059163706.py\u001b[0m in \u001b[0;36m<module>\u001b[1;34m\u001b[0m\n\u001b[0;32m      1\u001b[0m \u001b[1;31m# k,l = map(int, input().split())\u001b[0m\u001b[1;33m\u001b[0m\u001b[1;33m\u001b[0m\u001b[0m\n\u001b[0;32m      2\u001b[0m \u001b[1;32mfor\u001b[0m \u001b[0mi\u001b[0m \u001b[1;32min\u001b[0m \u001b[0mrange\u001b[0m\u001b[1;33m(\u001b[0m\u001b[0mk\u001b[0m\u001b[1;33m)\u001b[0m\u001b[1;33m:\u001b[0m\u001b[1;33m\u001b[0m\u001b[1;33m\u001b[0m\u001b[0m\n\u001b[1;32m----> 3\u001b[1;33m     \u001b[0mt\u001b[0m \u001b[1;33m=\u001b[0m \u001b[0minput\u001b[0m\u001b[1;33m(\u001b[0m\u001b[1;33m)\u001b[0m\u001b[1;33m.\u001b[0m\u001b[0msplit\u001b[0m\u001b[1;33m(\u001b[0m\u001b[1;34m': '\u001b[0m\u001b[1;33m)\u001b[0m\u001b[1;33m\u001b[0m\u001b[1;33m\u001b[0m\u001b[0m\n\u001b[0m\u001b[0;32m      4\u001b[0m     \u001b[0md\u001b[0m\u001b[1;33m.\u001b[0m\u001b[0mupdate\u001b[0m\u001b[1;33m(\u001b[0m\u001b[1;33m{\u001b[0m\u001b[0mt\u001b[0m\u001b[1;33m[\u001b[0m\u001b[1;36m1\u001b[0m\u001b[1;33m]\u001b[0m\u001b[1;33m:\u001b[0m\u001b[0mt\u001b[0m\u001b[1;33m[\u001b[0m\u001b[1;36m0\u001b[0m\u001b[1;33m]\u001b[0m\u001b[1;33m}\u001b[0m\u001b[1;33m)\u001b[0m\u001b[1;33m\u001b[0m\u001b[1;33m\u001b[0m\u001b[0m\n\u001b[0;32m      5\u001b[0m \u001b[0ms\u001b[0m \u001b[1;33m=\u001b[0m \u001b[0minput\u001b[0m\u001b[1;33m(\u001b[0m\u001b[1;33m)\u001b[0m\u001b[1;33m\u001b[0m\u001b[1;33m\u001b[0m\u001b[0m\n",
      "\u001b[1;32mC:\\anaconda3\\lib\\site-packages\\ipykernel\\kernelbase.py\u001b[0m in \u001b[0;36mraw_input\u001b[1;34m(self, prompt)\u001b[0m\n\u001b[0;32m   1004\u001b[0m                 \u001b[1;34m\"raw_input was called, but this frontend does not support input requests.\"\u001b[0m\u001b[1;33m\u001b[0m\u001b[1;33m\u001b[0m\u001b[0m\n\u001b[0;32m   1005\u001b[0m             )\n\u001b[1;32m-> 1006\u001b[1;33m         return self._input_request(\n\u001b[0m\u001b[0;32m   1007\u001b[0m             \u001b[0mstr\u001b[0m\u001b[1;33m(\u001b[0m\u001b[0mprompt\u001b[0m\u001b[1;33m)\u001b[0m\u001b[1;33m,\u001b[0m\u001b[1;33m\u001b[0m\u001b[1;33m\u001b[0m\u001b[0m\n\u001b[0;32m   1008\u001b[0m             \u001b[0mself\u001b[0m\u001b[1;33m.\u001b[0m\u001b[0m_parent_ident\u001b[0m\u001b[1;33m[\u001b[0m\u001b[1;34m\"shell\"\u001b[0m\u001b[1;33m]\u001b[0m\u001b[1;33m,\u001b[0m\u001b[1;33m\u001b[0m\u001b[1;33m\u001b[0m\u001b[0m\n",
      "\u001b[1;32mC:\\anaconda3\\lib\\site-packages\\ipykernel\\kernelbase.py\u001b[0m in \u001b[0;36m_input_request\u001b[1;34m(self, prompt, ident, parent, password)\u001b[0m\n\u001b[0;32m   1049\u001b[0m             \u001b[1;32mexcept\u001b[0m \u001b[0mKeyboardInterrupt\u001b[0m\u001b[1;33m:\u001b[0m\u001b[1;33m\u001b[0m\u001b[1;33m\u001b[0m\u001b[0m\n\u001b[0;32m   1050\u001b[0m                 \u001b[1;31m# re-raise KeyboardInterrupt, to truncate traceback\u001b[0m\u001b[1;33m\u001b[0m\u001b[1;33m\u001b[0m\u001b[0m\n\u001b[1;32m-> 1051\u001b[1;33m                 \u001b[1;32mraise\u001b[0m \u001b[0mKeyboardInterrupt\u001b[0m\u001b[1;33m(\u001b[0m\u001b[1;34m\"Interrupted by user\"\u001b[0m\u001b[1;33m)\u001b[0m \u001b[1;32mfrom\u001b[0m \u001b[1;32mNone\u001b[0m\u001b[1;33m\u001b[0m\u001b[1;33m\u001b[0m\u001b[0m\n\u001b[0m\u001b[0;32m   1052\u001b[0m             \u001b[1;32mexcept\u001b[0m \u001b[0mException\u001b[0m\u001b[1;33m:\u001b[0m\u001b[1;33m\u001b[0m\u001b[1;33m\u001b[0m\u001b[0m\n\u001b[0;32m   1053\u001b[0m                 \u001b[0mself\u001b[0m\u001b[1;33m.\u001b[0m\u001b[0mlog\u001b[0m\u001b[1;33m.\u001b[0m\u001b[0mwarning\u001b[0m\u001b[1;33m(\u001b[0m\u001b[1;34m\"Invalid Message:\"\u001b[0m\u001b[1;33m,\u001b[0m \u001b[0mexc_info\u001b[0m\u001b[1;33m=\u001b[0m\u001b[1;32mTrue\u001b[0m\u001b[1;33m)\u001b[0m\u001b[1;33m\u001b[0m\u001b[1;33m\u001b[0m\u001b[0m\n",
      "\u001b[1;31mKeyboardInterrupt\u001b[0m: Interrupted by user"
     ]
    }
   ],
   "source": [
    "k,l = map(int, input().split())\n",
    "for i in range(k):\n",
    "    t = input().split(': ')\n",
    "    d.update({t[1]:t[0]})\n",
    "s = input()\n",
    "t = ''\n",
    "out = ''\n",
    "for i in s:\n",
    "    t += i\n",
    "    if t in d.keys():\n",
    "        out += d[t]\n",
    "        t = ''\n",
    "print(out)"
   ]
  },
  {
   "cell_type": "code",
   "execution_count": 123,
   "id": "afc30096",
   "metadata": {},
   "outputs": [
    {
     "data": {
      "text/plain": [
       "{'t': '2'}"
      ]
     },
     "execution_count": 123,
     "metadata": {},
     "output_type": "execute_result"
    }
   ],
   "source": [
    "d"
   ]
  },
  {
   "cell_type": "markdown",
   "id": "7438919c",
   "metadata": {},
   "source": [
    "Первая строка входа содержит число операций 1≤n≤10^5. Каждая из последующих n строк задают операцию одного из следующих двух типов:\n",
    "Insert x, где 0≤x≤10^9 — целое число;\n",
    "ExtractMax.\n",
    "Первая операция добавляет число x в очередь с приоритетами, вторая — извлекает максимальное число и выводит его."
   ]
  },
  {
   "cell_type": "code",
   "execution_count": 23,
   "id": "c29f03a5",
   "metadata": {},
   "outputs": [
    {
     "name": "stdout",
     "output_type": "stream",
     "text": [
      "3\n"
     ]
    },
    {
     "ename": "IndexError",
     "evalue": "list index out of range",
     "output_type": "error",
     "traceback": [
      "\u001b[1;31m---------------------------------------------------------------------------\u001b[0m",
      "\u001b[1;31mIndexError\u001b[0m                                Traceback (most recent call last)",
      "\u001b[1;32m~\\AppData\\Local\\Temp/ipykernel_4056/806153210.py\u001b[0m in \u001b[0;36m<module>\u001b[1;34m\u001b[0m\n\u001b[0;32m      5\u001b[0m \u001b[1;32mfor\u001b[0m \u001b[0mi\u001b[0m \u001b[1;32min\u001b[0m \u001b[0mrange\u001b[0m\u001b[1;33m(\u001b[0m\u001b[0mn\u001b[0m\u001b[1;33m)\u001b[0m\u001b[1;33m:\u001b[0m\u001b[1;33m\u001b[0m\u001b[1;33m\u001b[0m\u001b[0m\n\u001b[0;32m      6\u001b[0m     \u001b[0ma\u001b[0m \u001b[1;33m=\u001b[0m \u001b[0msys\u001b[0m\u001b[1;33m.\u001b[0m\u001b[0mstdin\u001b[0m\u001b[1;33m.\u001b[0m\u001b[0mreadline\u001b[0m\u001b[1;33m(\u001b[0m\u001b[1;33m)\u001b[0m\u001b[1;33m.\u001b[0m\u001b[0msplit\u001b[0m\u001b[1;33m(\u001b[0m\u001b[1;33m)\u001b[0m\u001b[1;33m\u001b[0m\u001b[1;33m\u001b[0m\u001b[0m\n\u001b[1;32m----> 7\u001b[1;33m     \u001b[1;32mif\u001b[0m \u001b[0ma\u001b[0m\u001b[1;33m[\u001b[0m\u001b[1;36m0\u001b[0m\u001b[1;33m]\u001b[0m \u001b[1;33m==\u001b[0m \u001b[1;34m'Insert'\u001b[0m\u001b[1;33m:\u001b[0m\u001b[1;33m\u001b[0m\u001b[1;33m\u001b[0m\u001b[0m\n\u001b[0m\u001b[0;32m      8\u001b[0m         \u001b[0ml\u001b[0m\u001b[1;33m.\u001b[0m\u001b[0mappend\u001b[0m\u001b[1;33m(\u001b[0m\u001b[0mint\u001b[0m\u001b[1;33m(\u001b[0m\u001b[0ma\u001b[0m\u001b[1;33m[\u001b[0m\u001b[1;36m1\u001b[0m\u001b[1;33m]\u001b[0m\u001b[1;33m)\u001b[0m\u001b[1;33m)\u001b[0m\u001b[1;33m\u001b[0m\u001b[1;33m\u001b[0m\u001b[0m\n\u001b[0;32m      9\u001b[0m     \u001b[1;32mif\u001b[0m \u001b[0ma\u001b[0m\u001b[1;33m[\u001b[0m\u001b[1;36m0\u001b[0m\u001b[1;33m]\u001b[0m \u001b[1;33m==\u001b[0m \u001b[1;34m'ExtractMax'\u001b[0m\u001b[1;33m:\u001b[0m\u001b[1;33m\u001b[0m\u001b[1;33m\u001b[0m\u001b[0m\n",
      "\u001b[1;31mIndexError\u001b[0m: list index out of range"
     ]
    }
   ],
   "source": [
    "n = int(input())\n",
    "m = []\n",
    "l = []\n",
    "for i in range(n):\n",
    "    a = input().split()\n",
    "    if a[0] == 'Insert':\n",
    "        l.append(int(a[1]))\n",
    "    if a[0] == 'ExtractMax':\n",
    "        m.append(max(l))\n",
    "        l.remove(max(l))\n",
    "for i in m:\n",
    "    print(i)"
   ]
  },
  {
   "cell_type": "code",
   "execution_count": 1,
   "id": "66b0ab21",
   "metadata": {},
   "outputs": [
    {
     "name": "stdout",
     "output_type": "stream",
     "text": [
      "1\n",
      "ExtractMax\n"
     ]
    },
    {
     "ename": "IndexError",
     "evalue": "list index out of range",
     "output_type": "error",
     "traceback": [
      "\u001b[1;31m---------------------------------------------------------------------------\u001b[0m",
      "\u001b[1;31mIndexError\u001b[0m                                Traceback (most recent call last)",
      "\u001b[1;32m~\\AppData\\Local\\Temp/ipykernel_2436/2146849570.py\u001b[0m in \u001b[0;36m<module>\u001b[1;34m\u001b[0m\n\u001b[0;32m     24\u001b[0m         \u001b[0msiftUp\u001b[0m\u001b[1;33m(\u001b[0m\u001b[0mlen\u001b[0m\u001b[1;33m(\u001b[0m\u001b[0ma\u001b[0m\u001b[1;33m)\u001b[0m\u001b[1;33m-\u001b[0m\u001b[1;36m1\u001b[0m\u001b[1;33m)\u001b[0m\u001b[1;33m\u001b[0m\u001b[1;33m\u001b[0m\u001b[0m\n\u001b[0;32m     25\u001b[0m     \u001b[1;32mif\u001b[0m \u001b[0ml\u001b[0m\u001b[1;33m[\u001b[0m\u001b[1;36m0\u001b[0m\u001b[1;33m]\u001b[0m \u001b[1;33m==\u001b[0m \u001b[1;34m'ExtractMax'\u001b[0m\u001b[1;33m:\u001b[0m\u001b[1;33m\u001b[0m\u001b[1;33m\u001b[0m\u001b[0m\n\u001b[1;32m---> 26\u001b[1;33m         \u001b[0mm\u001b[0m\u001b[1;33m.\u001b[0m\u001b[0mappend\u001b[0m\u001b[1;33m(\u001b[0m\u001b[0ma\u001b[0m\u001b[1;33m[\u001b[0m\u001b[1;36m0\u001b[0m\u001b[1;33m]\u001b[0m\u001b[1;33m)\u001b[0m\u001b[1;33m\u001b[0m\u001b[1;33m\u001b[0m\u001b[0m\n\u001b[0m\u001b[0;32m     27\u001b[0m         \u001b[0ma\u001b[0m\u001b[1;33m[\u001b[0m\u001b[1;36m0\u001b[0m\u001b[1;33m]\u001b[0m \u001b[1;33m=\u001b[0m \u001b[0ma\u001b[0m\u001b[1;33m[\u001b[0m\u001b[1;33m-\u001b[0m\u001b[1;36m1\u001b[0m\u001b[1;33m]\u001b[0m\u001b[1;33m\u001b[0m\u001b[1;33m\u001b[0m\u001b[0m\n\u001b[0;32m     28\u001b[0m         \u001b[0ma\u001b[0m\u001b[1;33m.\u001b[0m\u001b[0mpop\u001b[0m\u001b[1;33m(\u001b[0m\u001b[1;33m)\u001b[0m\u001b[1;33m\u001b[0m\u001b[1;33m\u001b[0m\u001b[0m\n",
      "\u001b[1;31mIndexError\u001b[0m: list index out of range"
     ]
    }
   ],
   "source": [
    "def siftUp(i : int):\n",
    "    while a[i] > a[(i - 1) // 2] and i != 0:\n",
    "        a[i], a[(i - 1) // 2] = a[(i - 1) // 2], a[i]\n",
    "        i = (i - 1) // 2\n",
    "\n",
    "def siftDown(i : int):\n",
    "    while 2*i + 1 < len(a):   \n",
    "        left = 2 * i + 1           \n",
    "        right = 2 * i + 2            \n",
    "        j = left\n",
    "        if right < len(a) and a[right] > a[left]:\n",
    "            j = right\n",
    "        if a[i] >= a[j]:\n",
    "            break\n",
    "        a[i], a[j] = a[j], a[i]\n",
    "        i = j\n",
    "n = int(input())\n",
    "m = []\n",
    "a = []\n",
    "for i in range(n):\n",
    "    l = input().split()\n",
    "    if l[0] == 'Insert':\n",
    "        a.append(int(l[1]))\n",
    "        siftUp(len(a)-1)\n",
    "    if l[0] == 'ExtractMax':\n",
    "        m.append(a[0])\n",
    "        a[0] = a[-1]\n",
    "        a.pop()\n",
    "        siftDown(0)\n",
    "print(*m)"
   ]
  },
  {
   "cell_type": "markdown",
   "id": "f069952b",
   "metadata": {},
   "source": [
    "В первой строке даны целое число 1≤n≤10^5 и массив A[1…n] из n различных натуральных чисел, не превышающих 10^9, в порядке возрастания, во второй — целое число 1≤k≤10^5 и k натуральных чисел b1,…,bk, не превышающих 10^9. Для каждого i от 1 до k необходимо вывести индекс 1≤j≤n, для которого A[j]=b_i, или -1, если такого j нет."
   ]
  },
  {
   "cell_type": "code",
   "execution_count": 2,
   "id": "9f8a3257",
   "metadata": {},
   "outputs": [
    {
     "name": "stdout",
     "output_type": "stream",
     "text": [
      "-1\n"
     ]
    }
   ],
   "source": [
    "def qsearch(i):\n",
    "    l = 1\n",
    "    r = len(a) -1\n",
    "    while l <= r:\n",
    "        m = (l+r)//2\n",
    "        if a[m] == i:\n",
    "            return m\n",
    "        elif a[m] > i:\n",
    "            r = m-1\n",
    "        else:\n",
    "            l = m +1\n",
    "    return -1\n",
    "\n",
    "a = list(map(int, input().split()))\n",
    "n, *b = map(int, input().split())\n",
    "# a = [5, 5, 1, 5, 8, 12, 13, 44]\n",
    "# b = [0]\n",
    "out = [qsearch(i) for i in b]\n",
    "print(*out)"
   ]
  },
  {
   "cell_type": "markdown",
   "id": "b5c5354d",
   "metadata": {},
   "source": [
    "Первая строка содержит число 1≤n≤10^5, вторая — массив A[1…n], содержащий натуральные числа, не превосходящие 10^9. Необходимо посчитать число пар индексов 1≤i<j≤n, для которых A[i]>A[j]. (Такая пара элементов называется инверсией массива. Количество инверсий в массиве является в некотором смысле его мерой неупорядоченности: например, в упорядоченном по неубыванию массиве инверсий нет вообще, а в массиве, упорядоченном по убыванию, инверсию образуют каждые два элемента.)"
   ]
  },
  {
   "cell_type": "code",
   "execution_count": 13,
   "id": "0d6b2d0d",
   "metadata": {},
   "outputs": [
    {
     "data": {
      "text/plain": [
       "[3, 4, 6, 8, 13, 16, 19, 27, 27, 34, 39, 41, 41, 52, 78]"
      ]
     },
     "execution_count": 13,
     "metadata": {},
     "output_type": "execute_result"
    }
   ],
   "source": [
    "import operator\n",
    "def merge_sort(L, compare=operator.lt):\n",
    "    if len(L) < 2:\n",
    "        return L[:]\n",
    "    else:\n",
    "        middle = int(len(L) / 2)\n",
    "        left = merge_sort(L[:middle], compare)\n",
    "        right = merge_sort(L[middle:], compare)\n",
    "        return merge(left, right, compare)\n",
    "\n",
    "def merge(left, right, compare):\n",
    "    result = []\n",
    "    i, j = 0, 0\n",
    "    while i < len(left) and j < len(right):\n",
    "        if compare(left[i], right[j]):\n",
    "            result.append(left[i])\n",
    "            i += 1\n",
    "        else:\n",
    "            result.append(right[j])\n",
    "            j += 1\n",
    "    while i < len(left):\n",
    "        result.append(left[i])\n",
    "        i += 1\n",
    "    while j < len(right):\n",
    "        result.append(right[j])\n",
    "        j += 1\n",
    "    return result\n",
    "\n",
    "# z = int(input())\n",
    "# arr = list(map(int, input().split()))\n",
    "array = [78, 41, 4, 27, 3, 27, 8, 39, 19, 34, 6, 41, 13, 52, 16]\n",
    "merge_sort(array)"
   ]
  },
  {
   "cell_type": "markdown",
   "id": "60265a85",
   "metadata": {},
   "source": [
    "В первой строке задано два целых числа 1≤n≤50000 и 1≤m≤50000 — количество отрезков и точек на прямой, соответственно. Следующие n строк содержат по два целых числа a_i и b_i (ai≤bi) — координаты концов отрезков. Последняя строка содержит m целых чисел — координаты точек. Все координаты не превышают 10^8 по модулю. Точка считается принадлежащей отрезку, если она находится внутри него или на границе. Для каждой точки в порядке появления во вводе выведите, скольким отрезкам она принадлежит."
   ]
  },
  {
   "cell_type": "code",
   "execution_count": null,
   "id": "79b65ad8",
   "metadata": {},
   "outputs": [],
   "source": []
  },
  {
   "cell_type": "markdown",
   "id": "e2ff073f",
   "metadata": {},
   "source": [
    "Дано целое число n 1≤n≤10^3 и массив A[1…n] натуральных чисел, не превосходящих 2*10^9. Выведите максимальное 1≤k≤n, для которого найдётся подпоследовательность 1≤i1<i2<…<ik≤n длины k, в которой каждый элемент делится на предыдущий (формально: для  всех 1≤j<k,A[i_{j+1}] A[i j ]∣A[i j+1])."
   ]
  },
  {
   "cell_type": "code",
   "execution_count": 32,
   "id": "74495875",
   "metadata": {},
   "outputs": [
    {
     "name": "stdout",
     "output_type": "stream",
     "text": [
      "5\n"
     ]
    }
   ],
   "source": [
    "n = int(input())\n",
    "a = [int(x) for x in input().split()]\n",
    "# n = 10\n",
    "# a = [3, 6, 12, 7, 9, 24, 18, 3, 9, 24]\n",
    "d = [1]*n\n",
    "for i in range(n):\n",
    "    for j in range(i):\n",
    "        if (a[i]%a[j] == 0) and d[j] + 1 > d[i]:\n",
    "            d[i] = d[j] + 1\n",
    "print (max(d))"
   ]
  },
  {
   "cell_type": "markdown",
   "id": "d0d0c777",
   "metadata": {},
   "source": [
    "Дано целое число 1≤n≤10^5 и массив AA[1…n], содержащий неотрицательные целые числа, не превосходящие 10^9. Найдите наибольшую невозрастающую подпоследовательность в A. В первой строке выведите её длину k, во второй — её индексы 1<i2<…<ik≤n (таким образом, A[i 1]≥A[i 2]≥…≥A[i n])."
   ]
  },
  {
   "cell_type": "code",
   "execution_count": 18,
   "id": "50e3c2ef",
   "metadata": {},
   "outputs": [
    {
     "data": {
      "text/plain": [
       "0"
      ]
     },
     "execution_count": 18,
     "metadata": {},
     "output_type": "execute_result"
    }
   ],
   "source": [
    "n = int(input())\n",
    "a = [int(x) for x in input().split()]\n",
    "# n = 10\n",
    "# a = [3, 6, 12, 7, 9, 24, 18, 3, 9, 24]\n",
    "d = [1]*n\n",
    "for i in range(n):\n",
    "    for j in range(i):\n",
    "        if (a[i]<[j]) and d[j] + 1 > d[i]:\n",
    "            d[i] = d[j] + 1\n"
   ]
  },
  {
   "cell_type": "markdown",
   "id": "650ff866",
   "metadata": {},
   "source": [
    "Вычислите расстояние редактирования двух данных непустых строк длины не более 10^2, содержащих строчные буквы латинского алфавита."
   ]
  },
  {
   "cell_type": "code",
   "execution_count": 55,
   "id": "e2a228ab",
   "metadata": {},
   "outputs": [
    {
     "name": "stdout",
     "output_type": "stream",
     "text": [
      "as\n",
      "as\n",
      "0\n"
     ]
    }
   ],
   "source": [
    "def levenshtein(a, b):\n",
    "    n,m = len(a)+1,len(b)+1\n",
    "    d = [[0]*n for i in range(m)]\n",
    "    for i in range(m):\n",
    "        for j in range(n):\n",
    "            if i == 0:\n",
    "                d[i][j] = j\n",
    "                continue\n",
    "            if j == 0:\n",
    "                d[i][j] = i\n",
    "                continue\n",
    "            if a[i-1] == b[j-1]:\n",
    "                c = 0\n",
    "            else:\n",
    "                c = 1\n",
    "            d[i][j] = min(d[i-1][j]+1, d[i][j-1] +1, d[i-1][j-1] + c)\n",
    "    return d[n-1][m-1]\n",
    "a = input()\n",
    "b = input()\n",
    "print(levenshtein(a, b))"
   ]
  },
  {
   "cell_type": "markdown",
   "id": "f27799b2",
   "metadata": {},
   "source": [
    "Первая строка входа содержит целые числа 1≤W≤10^4 и 1≤n≤300 — вместимость рюкзака и число золотых слитков. Следующая строка содержит n целых чисел 0≤w1,…,wn≤10^5, задающих веса слитков. Найдите максимальный вес золота, который можно унести в рюкзаке."
   ]
  },
  {
   "cell_type": "code",
   "execution_count": 49,
   "id": "5e4ddd1b",
   "metadata": {},
   "outputs": [
    {
     "name": "stdout",
     "output_type": "stream",
     "text": [
      "3 4\n",
      "3 4 5 6\n",
      "3\n"
     ]
    }
   ],
   "source": [
    "def maxGold(W, n, w):\n",
    "    d = [1]+[0]*W\n",
    "    for j in range(n):\n",
    "        for i in range(W, w[j]-1, -1):\n",
    "            if d[i-w[j]] == 1:\n",
    "                d[i] = 1\n",
    "    t = W\n",
    "    while d[t] == 0:\n",
    "        t -= 1\n",
    "    return t\n",
    "W, n = map(int, input().split())\n",
    "a = list(map(int, input().split()))\n",
    "print(maxGold(W,n,a))"
   ]
  },
  {
   "cell_type": "markdown",
   "id": "9bd0e58d",
   "metadata": {},
   "source": [
    "Даны число 1≤n≤10^2 ступенек лестницы и целые числа -10^4≤a1,…,an≤10^4, которыми помечены ступеньки. Найдите максимальную сумму, которую можно получить, идя по лестнице снизу вверх (от нулевой до n-й ступеньки), каждый раз поднимаясь на одну или две ступеньки."
   ]
  },
  {
   "cell_type": "code",
   "execution_count": 18,
   "id": "67a45e0b",
   "metadata": {},
   "outputs": [],
   "source": [
    "def stairs(a):\n",
    "    ppr = 0\n",
    "    pr = a[0]\n",
    "    cur = a[0]\n",
    "    for i in range(1, len(a)):\n",
    "        cur = max(ppr,pr)+a[i]\n",
    "        ppr = pr\n",
    "        pr = cur \n",
    "    return cur\n",
    "# n = int(input())\n",
    "# a = list(map(int, input().split()))\n",
    "# print(stairs(a))\n",
    "def test():\n",
    "    assert -63 == stairs([-2, -16, -13, -9, -48])\n",
    "    assert 2 == stairs([1, 1, -2, -4, -6, 2, 2])\n",
    "    assert -73 == stairs([-64, -16, -13, -9, -48])\n",
    "    assert 5 == stairs([0, 0, 0, 4, 6, -5])\n",
    "    assert -9 == stairs([-6, 4, -16, -13, -9, 0])\n",
    "    assert -18 == stairs([-6, 4, -16, -13, -9])\n",
    "    assert 21 == stairs([3, 4, 10, 10, 0, -6, -10, 0])\n",
    "    assert 3 == stairs([1, 2])\n",
    "    assert 1 == stairs([2, -1])\n",
    "    assert 3 == stairs([-1, 2, 1])\n",
    "    assert 2 == stairs([2])\n",
    "    assert -2 == stairs([-2])\n",
    "test()"
   ]
  },
  {
   "cell_type": "code",
   "execution_count": 1,
   "id": "0c605030",
   "metadata": {},
   "outputs": [
    {
     "name": "stdout",
     "output_type": "stream",
     "text": [
      "7 4 4\n"
     ]
    },
    {
     "ename": "ValueError",
     "evalue": "invalid literal for int() with base 10: '7 4 4'",
     "output_type": "error",
     "traceback": [
      "\u001b[1;31m---------------------------------------------------------------------------\u001b[0m",
      "\u001b[1;31mValueError\u001b[0m                                Traceback (most recent call last)",
      "\u001b[1;32m~\\AppData\\Local\\Temp/ipykernel_4892/1470147551.py\u001b[0m in \u001b[0;36m<module>\u001b[1;34m\u001b[0m\n\u001b[0;32m      5\u001b[0m         \u001b[0mout\u001b[0m\u001b[1;33m[\u001b[0m\u001b[0mi\u001b[0m\u001b[1;33m]\u001b[0m \u001b[1;33m=\u001b[0m \u001b[0mmax\u001b[0m\u001b[1;33m(\u001b[0m\u001b[0mout\u001b[0m\u001b[1;33m[\u001b[0m\u001b[0mi\u001b[0m\u001b[1;33m-\u001b[0m\u001b[1;36m1\u001b[0m\u001b[1;33m]\u001b[0m\u001b[1;33m,\u001b[0m \u001b[0mout\u001b[0m\u001b[1;33m[\u001b[0m\u001b[0mi\u001b[0m\u001b[1;33m-\u001b[0m\u001b[1;36m2\u001b[0m\u001b[1;33m]\u001b[0m\u001b[1;33m)\u001b[0m\u001b[1;33m+\u001b[0m\u001b[0ma\u001b[0m\u001b[1;33m[\u001b[0m\u001b[0mi\u001b[0m\u001b[1;33m-\u001b[0m\u001b[1;36m1\u001b[0m\u001b[1;33m]\u001b[0m\u001b[1;33m\u001b[0m\u001b[1;33m\u001b[0m\u001b[0m\n\u001b[0;32m      6\u001b[0m     \u001b[1;32mreturn\u001b[0m \u001b[0mout\u001b[0m\u001b[1;33m[\u001b[0m\u001b[0mn\u001b[0m\u001b[1;33m]\u001b[0m\u001b[1;33m\u001b[0m\u001b[1;33m\u001b[0m\u001b[0m\n\u001b[1;32m----> 7\u001b[1;33m \u001b[0mn\u001b[0m \u001b[1;33m=\u001b[0m \u001b[0mint\u001b[0m\u001b[1;33m(\u001b[0m\u001b[0minput\u001b[0m\u001b[1;33m(\u001b[0m\u001b[1;33m)\u001b[0m\u001b[1;33m)\u001b[0m\u001b[1;33m\u001b[0m\u001b[1;33m\u001b[0m\u001b[0m\n\u001b[0m\u001b[0;32m      8\u001b[0m \u001b[0ma\u001b[0m \u001b[1;33m=\u001b[0m \u001b[0mlist\u001b[0m\u001b[1;33m(\u001b[0m\u001b[0mmap\u001b[0m\u001b[1;33m(\u001b[0m\u001b[0mint\u001b[0m\u001b[1;33m,\u001b[0m \u001b[0minput\u001b[0m\u001b[1;33m(\u001b[0m\u001b[1;33m)\u001b[0m\u001b[1;33m.\u001b[0m\u001b[0msplit\u001b[0m\u001b[1;33m(\u001b[0m\u001b[1;33m)\u001b[0m\u001b[1;33m)\u001b[0m\u001b[1;33m)\u001b[0m\u001b[1;33m\u001b[0m\u001b[1;33m\u001b[0m\u001b[0m\n\u001b[0;32m      9\u001b[0m \u001b[0mprint\u001b[0m\u001b[1;33m(\u001b[0m\u001b[0mstairs\u001b[0m\u001b[1;33m(\u001b[0m\u001b[0mn\u001b[0m\u001b[1;33m,\u001b[0m \u001b[0ma\u001b[0m\u001b[1;33m)\u001b[0m\u001b[1;33m)\u001b[0m\u001b[1;33m\u001b[0m\u001b[1;33m\u001b[0m\u001b[0m\n",
      "\u001b[1;31mValueError\u001b[0m: invalid literal for int() with base 10: '7 4 4'"
     ]
    }
   ],
   "source": [
    "def stairs(n, a):\n",
    "    out = [0]*(n+1)\n",
    "    out[1] = a[0]\n",
    "    for i in range(2, n+1):\n",
    "        out[i] = max(out[i-1], out[i-2])+a[i-1]\n",
    "    return out[n]\n",
    "n = int(input())\n",
    "a = list(map(int, input().split()))\n",
    "print(stairs(n, a))\n"
   ]
  },
  {
   "cell_type": "markdown",
   "id": "cf586463",
   "metadata": {},
   "source": [
    "У вас есть примитивный калькулятор, который умеет выполнять всего три операции с текущим числом x: заменить x на 2x, 3x или x+1. По данному целому числу 1≤n≤10^5 определите минимальное число операций k, необходимое, чтобы получить n из 1. Выведите k и последовательность промежуточных чисел."
   ]
  },
  {
   "cell_type": "code",
   "execution_count": 88,
   "id": "0193f273",
   "metadata": {},
   "outputs": [
    {
     "name": "stdout",
     "output_type": "stream",
     "text": [
      "10\n",
      "3\n",
      "1 3 9 10\n"
     ]
    }
   ],
   "source": [
    "def calc(n):\n",
    "    if n == 1:\n",
    "        return [1]\n",
    "    l = [0]*(n+1)\n",
    "    t = [0]*(n+1)\n",
    "    i = 1\n",
    "    while i < n:\n",
    "        if i+1 <= n:\n",
    "            if l[i+1] == 0 or l[i+1] > l[i]+1:\n",
    "                l[i+1] = l[i]+1\n",
    "                t[i+1] = i\n",
    "        if i*2 <= n:\n",
    "            if l[i*2] == 0 or l[i*2] > l[i]+1:\n",
    "                l[i*2] = l[i]+1\n",
    "                t[i*2] = i\n",
    "        if i*3 <= n:\n",
    "            if l[i*3] == 0 or l[i*3] > l[i]+1:\n",
    "                l[i*3] = l[i]+1\n",
    "                t[i*3] = i\n",
    "        i += 1\n",
    "    out = [1]*(l[n]+1)\n",
    "    out[-1] = n\n",
    "    j = l[n]-1\n",
    "    k = t[n]\n",
    "    while j > 0:\n",
    "        out[j] = k\n",
    "        k = t[k]\n",
    "        j -= 1\n",
    "    return out\n",
    "n = int(input())\n",
    "a = calc(n)\n",
    "print(len(a)-1)\n",
    "print(*a)\n",
    "            "
   ]
  },
  {
   "cell_type": "code",
   "execution_count": 89,
   "id": "419d6ae1",
   "metadata": {},
   "outputs": [],
   "source": []
  },
  {
   "cell_type": "code",
   "execution_count": 90,
   "id": "a7069cd1",
   "metadata": {},
   "outputs": [
    {
     "data": {
      "text/plain": [
       "[4]"
      ]
     },
     "execution_count": 90,
     "metadata": {},
     "output_type": "execute_result"
    }
   ],
   "source": []
  },
  {
   "cell_type": "code",
   "execution_count": null,
   "id": "e87dc294",
   "metadata": {},
   "outputs": [],
   "source": []
  },
  {
   "cell_type": "code",
   "execution_count": null,
   "id": "b0033bf1",
   "metadata": {},
   "outputs": [],
   "source": []
  },
  {
   "cell_type": "code",
   "execution_count": null,
   "id": "385f6599",
   "metadata": {},
   "outputs": [],
   "source": []
  }
 ],
 "metadata": {
  "kernelspec": {
   "display_name": "Python 3 (ipykernel)",
   "language": "python",
   "name": "python3"
  },
  "language_info": {
   "codemirror_mode": {
    "name": "ipython",
    "version": 3
   },
   "file_extension": ".py",
   "mimetype": "text/x-python",
   "name": "python",
   "nbconvert_exporter": "python",
   "pygments_lexer": "ipython3",
   "version": "3.9.7"
  }
 },
 "nbformat": 4,
 "nbformat_minor": 5
}
