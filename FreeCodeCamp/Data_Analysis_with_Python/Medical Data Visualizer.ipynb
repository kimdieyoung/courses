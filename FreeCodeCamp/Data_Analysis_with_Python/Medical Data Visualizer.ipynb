{
 "cells": [
  {
   "cell_type": "markdown",
   "id": "506fa34d",
   "metadata": {},
   "source": [
    "The rows in the dataset represent patients and the columns represent information like body measurements, results from various blood tests, and lifestyle choices. You will use the dataset to explore the relationship between cardiac disease, body measurements, blood markers, and lifestyle choices.\n"
   ]
  },
  {
   "cell_type": "code",
   "execution_count": 150,
   "id": "38de70b9",
   "metadata": {},
   "outputs": [
    {
     "data": {
      "text/html": [
       "<div>\n",
       "<style scoped>\n",
       "    .dataframe tbody tr th:only-of-type {\n",
       "        vertical-align: middle;\n",
       "    }\n",
       "\n",
       "    .dataframe tbody tr th {\n",
       "        vertical-align: top;\n",
       "    }\n",
       "\n",
       "    .dataframe thead th {\n",
       "        text-align: right;\n",
       "    }\n",
       "</style>\n",
       "<table border=\"1\" class=\"dataframe\">\n",
       "  <thead>\n",
       "    <tr style=\"text-align: right;\">\n",
       "      <th></th>\n",
       "      <th>id</th>\n",
       "      <th>age</th>\n",
       "      <th>sex</th>\n",
       "      <th>height</th>\n",
       "      <th>weight</th>\n",
       "      <th>ap_hi</th>\n",
       "      <th>ap_lo</th>\n",
       "      <th>cholesterol</th>\n",
       "      <th>gluc</th>\n",
       "      <th>smoke</th>\n",
       "      <th>alco</th>\n",
       "      <th>active</th>\n",
       "      <th>cardio</th>\n",
       "    </tr>\n",
       "  </thead>\n",
       "  <tbody>\n",
       "    <tr>\n",
       "      <th>0</th>\n",
       "      <td>0</td>\n",
       "      <td>18393</td>\n",
       "      <td>2</td>\n",
       "      <td>168</td>\n",
       "      <td>62.0</td>\n",
       "      <td>110</td>\n",
       "      <td>80</td>\n",
       "      <td>1</td>\n",
       "      <td>1</td>\n",
       "      <td>0</td>\n",
       "      <td>0</td>\n",
       "      <td>1</td>\n",
       "      <td>0</td>\n",
       "    </tr>\n",
       "    <tr>\n",
       "      <th>1</th>\n",
       "      <td>1</td>\n",
       "      <td>20228</td>\n",
       "      <td>1</td>\n",
       "      <td>156</td>\n",
       "      <td>85.0</td>\n",
       "      <td>140</td>\n",
       "      <td>90</td>\n",
       "      <td>3</td>\n",
       "      <td>1</td>\n",
       "      <td>0</td>\n",
       "      <td>0</td>\n",
       "      <td>1</td>\n",
       "      <td>1</td>\n",
       "    </tr>\n",
       "    <tr>\n",
       "      <th>2</th>\n",
       "      <td>2</td>\n",
       "      <td>18857</td>\n",
       "      <td>1</td>\n",
       "      <td>165</td>\n",
       "      <td>64.0</td>\n",
       "      <td>130</td>\n",
       "      <td>70</td>\n",
       "      <td>3</td>\n",
       "      <td>1</td>\n",
       "      <td>0</td>\n",
       "      <td>0</td>\n",
       "      <td>0</td>\n",
       "      <td>1</td>\n",
       "    </tr>\n",
       "    <tr>\n",
       "      <th>3</th>\n",
       "      <td>3</td>\n",
       "      <td>17623</td>\n",
       "      <td>2</td>\n",
       "      <td>169</td>\n",
       "      <td>82.0</td>\n",
       "      <td>150</td>\n",
       "      <td>100</td>\n",
       "      <td>1</td>\n",
       "      <td>1</td>\n",
       "      <td>0</td>\n",
       "      <td>0</td>\n",
       "      <td>1</td>\n",
       "      <td>1</td>\n",
       "    </tr>\n",
       "    <tr>\n",
       "      <th>4</th>\n",
       "      <td>4</td>\n",
       "      <td>17474</td>\n",
       "      <td>1</td>\n",
       "      <td>156</td>\n",
       "      <td>56.0</td>\n",
       "      <td>100</td>\n",
       "      <td>60</td>\n",
       "      <td>1</td>\n",
       "      <td>1</td>\n",
       "      <td>0</td>\n",
       "      <td>0</td>\n",
       "      <td>0</td>\n",
       "      <td>0</td>\n",
       "    </tr>\n",
       "  </tbody>\n",
       "</table>\n",
       "</div>"
      ],
      "text/plain": [
       "   id    age  sex  height  weight  ap_hi  ap_lo  cholesterol  gluc  smoke  \\\n",
       "0   0  18393    2     168    62.0    110     80            1     1      0   \n",
       "1   1  20228    1     156    85.0    140     90            3     1      0   \n",
       "2   2  18857    1     165    64.0    130     70            3     1      0   \n",
       "3   3  17623    2     169    82.0    150    100            1     1      0   \n",
       "4   4  17474    1     156    56.0    100     60            1     1      0   \n",
       "\n",
       "   alco  active  cardio  \n",
       "0     0       1       0  \n",
       "1     0       1       1  \n",
       "2     0       0       1  \n",
       "3     0       1       1  \n",
       "4     0       0       0  "
      ]
     },
     "execution_count": 150,
     "metadata": {},
     "output_type": "execute_result"
    }
   ],
   "source": [
    "import pandas as pd\n",
    "import seaborn as sns\n",
    "import matplotlib.pyplot as plt\n",
    "import numpy as np\n",
    "df = pd.read_csv('medical_examination.csv')\n",
    "df.head(5)"
   ]
  },
  {
   "cell_type": "markdown",
   "id": "43f0176b",
   "metadata": {},
   "source": [
    "Add an overweight column to the data. To determine if a person is overweight, first calculate their BMI by dividing their weight in kilograms by the square of their height in meters. If that value is > 25 then the person is overweight. Use the value 0 for NOT overweight and the value 1 for overweight."
   ]
  },
  {
   "cell_type": "code",
   "execution_count": 173,
   "id": "335f4f17",
   "metadata": {},
   "outputs": [],
   "source": [
    "df['overweight'] = np.where((df['weight']/(df['height']/100)**2)>25, 1, 0)"
   ]
  },
  {
   "cell_type": "markdown",
   "id": "416fcf81",
   "metadata": {},
   "source": [
    "Normalize data by making 0 always good and 1 always bad. If the value of 'cholesterol' or 'gluc' is 1, make the value 0. If the value is more than 1, make the value 1."
   ]
  },
  {
   "cell_type": "code",
   "execution_count": 174,
   "id": "3042d63d",
   "metadata": {},
   "outputs": [],
   "source": [
    "df['cholesterol'] = np.where(df['cholesterol'] > 1, 1, 0)\n",
    "df['gluc'] =  np.where(df['gluc'] > 1, 1, 0)"
   ]
  },
  {
   "cell_type": "markdown",
   "id": "840658b6",
   "metadata": {},
   "source": [
    "Create DataFrame for using `pd.melt` using just the values from 'cholesterol', 'gluc', 'smoke', 'alco', 'active', 'overweight'.\n",
    "Convert the data into long format and create a chart that shows the value counts of the categorical features using seaborn's catplot(). The dataset should be split by 'Cardio' so there is one chart for each cardio value"
   ]
  },
  {
   "cell_type": "code",
   "execution_count": 154,
   "id": "a3a09514",
   "metadata": {},
   "outputs": [],
   "source": [
    "df_cat = pd.melt(df, id_vars = 'cardio',value_vars = ['cholesterol','gluc','smoke', 'alco', 'active', 'overweight'])"
   ]
  },
  {
   "cell_type": "markdown",
   "id": "01ec9c98",
   "metadata": {},
   "source": [
    "Group and reformat the data to split it by 'cardio'. Show the counts of each feature. You will have to rename one of the columns for the catplot to work correctly."
   ]
  },
  {
   "cell_type": "code",
   "execution_count": 155,
   "id": "3996032e",
   "metadata": {},
   "outputs": [],
   "source": [
    "df_cat = pd.DataFrame(df_cat.groupby(['variable', 'value', 'cardio'])['value'].count()).rename(columns={'value': 'total'}).reset_index()"
   ]
  },
  {
   "cell_type": "markdown",
   "id": "7e745a06",
   "metadata": {},
   "source": [
    " Draw the catplot with 'sns.catplot()'"
   ]
  },
  {
   "cell_type": "code",
   "execution_count": 156,
   "id": "2c0c94da",
   "metadata": {},
   "outputs": [
    {
     "data": {
      "text/plain": [
       "<seaborn.axisgrid.FacetGrid at 0x1febfb2b7f0>"
      ]
     },
     "execution_count": 156,
     "metadata": {},
     "output_type": "execute_result"
    },
    {
     "data": {
      "image/png": "[encoded data removed]",
      "text/plain": [
       "<Figure size 762.375x360 with 2 Axes>"
      ]
     },
     "metadata": {
      "needs_background": "light"
     },
     "output_type": "display_data"
    }
   ],
   "source": [
    "sns.catplot(x = 'variable',y = 'total', data = df_cat, hue = 'value', kind = 'bar', col = 'cardio')"
   ]
  },
  {
   "cell_type": "markdown",
   "id": "508d55c6",
   "metadata": {},
   "source": [
    "Clean the data. Filter out the following patient segments that represent incorrect data:\n",
    "diastolic pressure is higher than systolic (Keep the correct data with (df['ap_lo'] <= df['ap_hi']))\n",
    "height is less than the 2.5th percentile (Keep the correct data with (df['height'] >= df['height'].quantile(0.025)))\n",
    "height is more than the 97.5th percentile\n",
    "weight is less than the 2.5th percentile\n",
    "weight is more than the 97.5th percentile"
   ]
  },
  {
   "cell_type": "code",
   "execution_count": 175,
   "id": "6eea266e",
   "metadata": {},
   "outputs": [],
   "source": [
    "df_heat = df[(df['ap_lo'] <= df['ap_hi'])\n",
    "        & (df['height'] >= df['height'].quantile(0.025))\n",
    "        & (df['height'] <= df['height'].quantile(0.975))\n",
    "        & (df['weight'] >= df['weight'].quantile(0.025))\n",
    "        & (df['weight'] <= df['weight'].quantile(0.975))]\n"
   ]
  },
  {
   "cell_type": "markdown",
   "id": "98fbaf82",
   "metadata": {},
   "source": [
    "Create a correlation matrix using the dataset. Plot the correlation matrix using seaborn's heatmap(). Mask the upper triangle."
   ]
  },
  {
   "cell_type": "markdown",
   "id": "a2f1b4c6",
   "metadata": {},
   "source": [
    "Calculate the correlation matrix"
   ]
  },
  {
   "cell_type": "code",
   "execution_count": 180,
   "id": "06bf50de",
   "metadata": {},
   "outputs": [],
   "source": [
    "corr = df_heat.corr(method = 'pearson')\n"
   ]
  },
  {
   "cell_type": "markdown",
   "id": "fdb4847f",
   "metadata": {},
   "source": [
    "Generate a mask for the upper triangle"
   ]
  },
  {
   "cell_type": "code",
   "execution_count": 179,
   "id": "7789ca6e",
   "metadata": {},
   "outputs": [],
   "source": [
    "mask = np.triu(corr)"
   ]
  },
  {
   "cell_type": "markdown",
   "id": "6a9e9333",
   "metadata": {},
   "source": [
    "Set up the matplotlib figure"
   ]
  },
  {
   "cell_type": "code",
   "execution_count": 184,
   "id": "cf5b9d8f",
   "metadata": {},
   "outputs": [
    {
     "data": {
      "image/png": "[encoded data removed]",
      "text/plain": [
       "<Figure size 720x720 with 1 Axes>"
      ]
     },
     "metadata": {
      "needs_background": "light"
     },
     "output_type": "display_data"
    }
   ],
   "source": [
    "fig, ax = plt.subplots(figsize = (10,10))"
   ]
  },
  {
   "cell_type": "markdown",
   "id": "fd2a0d97",
   "metadata": {},
   "source": [
    "Draw the heatmap with 'sns.heatmap()'"
   ]
  },
  {
   "cell_type": "code",
   "execution_count": 188,
   "id": "bc88199b",
   "metadata": {},
   "outputs": [
    {
     "data": {
      "image/png": "[encoded data removed]",
      "text/plain": [
       "<Figure size 432x288 with 2 Axes>"
      ]
     },
     "metadata": {
      "needs_background": "light"
     },
     "output_type": "display_data"
    }
   ],
   "source": [
    "fig = sns.heatmap(data = corr, mask = mask, annot = True, linewidths = 1, square = True, fmt = '.1f', center = 0.08, cbar_kws = {'shrink':0.5})"
   ]
  },
  {
   "cell_type": "code",
   "execution_count": null,
   "id": "0b71d222",
   "metadata": {},
   "outputs": [],
   "source": []
  }
 ],
 "metadata": {
  "kernelspec": {
   "display_name": "Python 3 (ipykernel)",
   "language": "python",
   "name": "python3"
  },
  "language_info": {
   "codemirror_mode": {
    "name": "ipython",
    "version": 3
   },
   "file_extension": ".py",
   "mimetype": "text/x-python",
   "name": "python",
   "nbconvert_exporter": "python",
   "pygments_lexer": "ipython3",
   "version": "3.9.7"
  }
 },
 "nbformat": 4,
 "nbformat_minor": 5
}
