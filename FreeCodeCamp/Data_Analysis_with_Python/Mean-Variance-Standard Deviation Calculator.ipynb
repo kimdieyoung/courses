{
 "cells": [
  {
   "cell_type": "markdown",
   "id": "a9e79735",
   "metadata": {},
   "source": [
    "### Assignment\n",
    "\n",
    "Create a function named `calculate()` in `mean_var_std.py` that uses Numpy to output the mean, variance, standard deviation, max, min, and sum of the rows, columns, and elements in a 3 x 3 matrix. \n",
    "\n",
    "The input of the function should be a list containing 9 digits. The function should convert the list into a 3 x 3 Numpy array, and then return a dictionary containing the mean, variance, standard deviation, max, min, and sum along both axes and for the flattened matrix. \n",
    "\n",
    "The returned dictionary should follow this format:\n",
    "```py\n",
    "{\n",
    "  'mean': [axis1, axis2, flattened],\n",
    "  'variance': [axis1, axis2, flattened],\n",
    "  'standard deviation': [axis1, axis2, flattened],\n",
    "  'max': [axis1, axis2, flattened],\n",
    "  'min': [axis1, axis2, flattened],\n",
    "  'sum': [axis1, axis2, flattened]\n",
    "}\n",
    "```\n",
    "\n",
    "If a list containing less than 9 elements is passed into the function, it should raise a `ValueError` exception with the message: \"List must contain nine numbers.\" The values in the returned dictionary should be lists and not Numpy arrays.\n",
    "\n",
    "For example, `calculate([0,1,2,3,4,5,6,7,8])` should return:\n",
    "```py\n",
    "{\n",
    "  'mean': [[3.0, 4.0, 5.0], [1.0, 4.0, 7.0], 4.0], \n",
    "  'variance': [[6.0, 6.0, 6.0], [0.6666666666666666, 0.6666666666666666, 0.6666666666666666], 6.666666666666667], \n",
    "  'standard deviation': [[2.449489742783178, 2.449489742783178, 2.449489742783178], [0.816496580927726, 0.816496580927726, 0.816496580927726], 2.581988897471611],\n",
    "  'max': [[6, 7, 8], [2, 5, 8], 8],\n",
    "  'min': [[0, 1, 2], [0, 3, 6], 0],\n",
    "  'sum': [[9, 12, 15], [3, 12, 21], 36]\n",
    "}\n"
   ]
  },
  {
   "cell_type": "code",
   "execution_count": 85,
   "id": "332b4c40",
   "metadata": {},
   "outputs": [],
   "source": [
    "import numpy as np\n",
    "def calculate(a):\n",
    "    if len(a) != 9:\n",
    "        raise ValueError('List must contain nine numbers.')\n",
    "    ls = np.reshape(a,(3, 3))\n",
    "    return{\n",
    "    'mean': [ls.mean(axis = 0).tolist(), ls.mean(axis = 1).tolist(), ls.mean()],\n",
    "    'variance' : [ls.var(axis = 0).tolist(), ls.var(axis = 1).tolist(), ls.var()],\n",
    "    'standard deviation' : [ls.std(axis = 0).tolist(), ls.std(axis =1).tolist(), ls.std()],\n",
    "    'max' : [ls.max(axis = 0).tolist(), ls.max(axis = 1).tolist(), ls.max()],\n",
    "    'min' : [ls.min(axis = 0).tolist(), ls.min(axis = 1).tolist(),ls.min()],\n",
    "    'sum' : [ls.sum(axis = 0).tolist(), ls.sum(axis = 1).tolist(), ls.sum()]\n",
    "    }"
   ]
  },
  {
   "cell_type": "code",
   "execution_count": 84,
   "id": "653f3445",
   "metadata": {},
   "outputs": [
    {
     "data": {
      "text/plain": [
       "{'mean': [[3.0, 4.0, 5.0], [1.0, 4.0, 7.0], 4.0],\n",
       " 'variance': [[6.0, 6.0, 6.0],\n",
       "  [0.6666666666666666, 0.6666666666666666, 0.6666666666666666],\n",
       "  6.666666666666667],\n",
       " 'standard deviation': [[2.449489742783178,\n",
       "   2.449489742783178,\n",
       "   2.449489742783178],\n",
       "  [0.816496580927726, 0.816496580927726, 0.816496580927726],\n",
       "  2.581988897471611],\n",
       " 'max': [[6, 7, 8], [2, 5, 8], 8],\n",
       " 'min': [[0, 1, 2], [0, 3, 6], 0],\n",
       " 'sum': [[9, 12, 15], [3, 12, 21], 36]}"
      ]
     },
     "execution_count": 84,
     "metadata": {},
     "output_type": "execute_result"
    }
   ],
   "source": [
    "calculate([0,1,2,3,4,5,6,7,8])"
   ]
  },
  {
   "cell_type": "code",
   "execution_count": null,
   "id": "066a4b68",
   "metadata": {},
   "outputs": [],
   "source": []
  }
 ],
 "metadata": {
  "kernelspec": {
   "display_name": "Python 3 (ipykernel)",
   "language": "python",
   "name": "python3"
  },
  "language_info": {
   "codemirror_mode": {
    "name": "ipython",
    "version": 3
   },
   "file_extension": ".py",
   "mimetype": "text/x-python",
   "name": "python",
   "nbconvert_exporter": "python",
   "pygments_lexer": "ipython3",
   "version": "3.9.7"
  }
 },
 "nbformat": 4,
 "nbformat_minor": 5
}
