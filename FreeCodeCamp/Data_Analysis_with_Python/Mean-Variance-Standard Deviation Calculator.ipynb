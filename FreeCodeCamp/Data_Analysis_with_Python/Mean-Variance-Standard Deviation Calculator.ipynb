{
 "cells": [
  {
   "cell_type": "markdown",
   "id": "a9e79735",
   "metadata": {},
   "source": [
    "### Assignment\n",
    "\n",
    "Create a function named `calculate()` in `mean_var_std.py` that uses Numpy to output the mean, variance, standard deviation, max, min, and sum of the rows, columns, and elements in a 3 x 3 matrix. \n",
    "\n",
    "The input of the function should be a list containing 9 digits. The function should convert the list into a 3 x 3 Numpy array, and then return a dictionary containing the mean, variance, standard deviation, max, min, and sum along both axes and for the flattened matrix. \n",
    "\n",
    "The returned dictionary should follow this format:\n",
    "```py\n",
    "{\n",
    "  'mean': [axis1, axis2, flattened],\n",
    "  'variance': [axis1, axis2, flattened],\n",
    "  'standard deviation': [axis1, axis2, flattened],\n",
    "  'max': [axis1, axis2, flattened],\n",
    "  'min': [axis1, axis2, flattened],\n",
    "  'sum': [axis1, axis2, flattened]\n",
    "}\n",
    "```\n",
    "\n",
    "If a list containing less than 9 elements is passed into the function, it should raise a `ValueError` exception with the message: \"List must contain nine numbers.\" The values in the returned dictionary should be lists and not Numpy arrays.\n",
    "\n",
    "For example, `calculate([0,1,2,3,4,5,6,7,8])` should return:\n",
    "```py\n",
    "{\n",
    "  'mean': [[3.0, 4.0, 5.0], [1.0, 4.0, 7.0], 4.0], \n",
    "  'variance': [[6.0, 6.0, 6.0], [0.6666666666666666, 0.6666666666666666, 0.6666666666666666], 6.666666666666667], \n",
    "  'standard deviation': [[2.449489742783178, 2.449489742783178, 2.449489742783178], [0.816496580927726, 0.816496580927726, 0.816496580927726], 2.581988897471611],\n",
    "  'max': [[6, 7, 8], [2, 5, 8], 8],\n",
    "  'min': [[0, 1, 2], [0, 3, 6], 0],\n",
    "  'sum': [[9, 12, 15], [3, 12, 21], 36]\n",
    "}\n",
    "```\n",
    "\n",
    "The unit tests for this project are in `test_module.py`.\n",
    "\n",
    "### Development\n",
    "\n",
    "For development, you can use `main.py` to test your `calculate()` function. Click the \"run\" button and `main.py` will run.\n",
    "\n",
    "### Testing \n",
    "\n",
    "We imported the tests from `test_module.py` to `main.py` for your convenience. The tests will run automatically whenever you hit the \"run\" button.\n"
   ]
  },
  {
   "cell_type": "code",
   "execution_count": null,
   "id": "332b4c40",
   "metadata": {},
   "outputs": [],
   "source": [
    "import numpy as np\n",
    "\n",
    "def calculate(a):\n",
    "    if len(a) != 9:\n",
    "    return ' ValueError: List must contain nine numbers.'\n",
    "  d = {}\n",
    "  a = np.reshape(a,(3, 3))\n",
    "  d['mean'] = [list(np.mean(a, axis = 0)),list(np.mean(a, axis = 1)), np.mean(a)]\n",
    "  d['variance'] = [list(np.var(a, axis = 0)),list(np.var(a, axis = 1)), np.var(a)]\n",
    "  d['standard deviation'] = [list(np.std(a, axis = 0)),list(np.std(a, axis =   \n",
    "1)),np.std(a)]\n",
    "  d['max'] = [list(np.max(a, axis = 0)), list(np.max(a, axis = 1)),np.max(a)]\n",
    "  d['min'] = [list(np.min(a, axis = 0)), list(np.min(a, axis = 1)),np.min(a)]\n",
    "  d['sum'] = [list(np.sum(a, axis = 0)), list(np.sum(a, axis = 1)),np.sum(a)]\n",
    "  return d"
   ]
  }
 ],
 "metadata": {
  "kernelspec": {
   "display_name": "Python 3 (ipykernel)",
   "language": "python",
   "name": "python3"
  },
  "language_info": {
   "codemirror_mode": {
    "name": "ipython",
    "version": 3
   },
   "file_extension": ".py",
   "mimetype": "text/x-python",
   "name": "python",
   "nbconvert_exporter": "python",
   "pygments_lexer": "ipython3",
   "version": "3.9.7"
  }
 },
 "nbformat": 4,
 "nbformat_minor": 5
}
